{
 "cells": [
  {
   "cell_type": "markdown",
   "metadata": {},
   "source": [
    "# Exercice 1"
   ]
  },
  {
   "cell_type": "markdown",
   "metadata": {},
   "source": [
    "Schéma décrivant la structure de la base de données :\n",
    "\n",
    "![Schéma de l'exercice 1](schema_ex1.png)"
   ]
  },
  {
   "cell_type": "code",
   "execution_count": 3,
   "metadata": {},
   "outputs": [
    {
     "name": "stdout",
     "output_type": "stream",
     "text": [
      "<mysql.connector.connection_cext.CMySQLConnection object at 0x10c105640>\n"
     ]
    }
   ],
   "source": [
    "# Connexion au serveur MySQL qui contient la base de données :\n",
    "\n",
    "from mysql.connector import connect, Error\n",
    "\n",
    "user_input = 'root'\n",
    "password = \"CentreTesniere1\"\n",
    "\n",
    "try:\n",
    "    connection = connect(\n",
    "        host=\"localhost\",\n",
    "        user = user_input,\n",
    "        password = password)\n",
    "    print(connection)\n",
    "\n",
    "except Error as e:\n",
    "    print(e)\n"
   ]
  },
  {
   "cell_type": "code",
   "execution_count": 15,
   "metadata": {},
   "outputs": [],
   "source": [
    "# Création de la base de données :\n",
    "\n",
    "dbname = 'questionsreponses'\n",
    "with connection.cursor() as cursor:\n",
    "\n",
    "    cursor.execute(f\"CREATE DATABASE {dbname}\")"
   ]
  },
  {
   "cell_type": "code",
   "execution_count": 4,
   "metadata": {},
   "outputs": [],
   "source": [
    "# Connexion à la base de données :\n",
    "\n",
    "with connection.cursor() as cursor:\n",
    "    dbname = 'questionsreponses'\n",
    "    cursor.execute(f\"USE {dbname}\")"
   ]
  },
  {
   "cell_type": "code",
   "execution_count": 8,
   "metadata": {},
   "outputs": [],
   "source": [
    "# Création de la table des questions :\n",
    "\n",
    "create_questions_table_query = \"\"\"\n",
    "CREATE TABLE questions(\n",
    "    id INT AUTO_INCREMENT PRIMARY KEY NOT NULL,\n",
    "    question VARCHAR(300),\n",
    "    type_question VARCHAR(20),\n",
    "    niveau INT\n",
    ")\n",
    "\"\"\"\n",
    "with connection.cursor() as cursor:\n",
    "    cursor.execute(create_questions_table_query)\n",
    "    connection.commit()\n"
   ]
  },
  {
   "cell_type": "code",
   "execution_count": 5,
   "metadata": {},
   "outputs": [],
   "source": [
    "# Création de la table des réponses :\n",
    "\n",
    "create_reponses_table_query = \"\"\"\n",
    "CREATE TABLE reponses(\n",
    "    id INT AUTO_INCREMENT PRIMARY KEY NOT NULL,\n",
    "    reponse VARCHAR(300),\n",
    "    type_reponse VARCHAR(20),\n",
    "    niveau INT,\n",
    "    question_id INT,\n",
    "    FOREIGN KEY(question_id) REFERENCES questions(id)\n",
    ")\n",
    "\"\"\"\n",
    "with connection.cursor() as cursor:\n",
    "    cursor.execute(create_reponses_table_query)\n",
    "    connection.commit()\n"
   ]
  },
  {
   "cell_type": "code",
   "execution_count": 9,
   "metadata": {},
   "outputs": [],
   "source": [
    "# Insertion des données dans la table des questions :\n",
    "# (J'ai séléctionné 20 questions de mon corpus de mémoire pour ce DM)\n",
    "\n",
    "insert_questions_query = \"\"\"\n",
    "INSERT INTO questions(id, question, type_question, niveau)\n",
    "VALUES\n",
    "    (1, \"Citer les regles elementaires de securite a cheval\", \"Sans ordre\", 1),\n",
    "    (2, \"Nommer les différentes aides naturelles\", \"Sans ordre\", 1),\n",
    "    (3, \"Enumerer dans l’ordre les etapes pour enlever le filet\", \"Avec ordre\", 1),\n",
    "    (4, \"Citer les regles de circulation en pratique dans un manege ou une carriere\", \"Sans ordre\", 2),\n",
    "    (5, \"Decrire la façon d’entretenir ses cuirs\", \"Avec ordre\", 2),\n",
    "    (6, \"Decrire les differents rôles de la ferrure\", \"Sans ordre\", 3),\n",
    "    (7, \"Decrire le mecanisme du pas\", \"Avec ordre\", 3),\n",
    "    (8, \"Decrire l’attitude que le cavalier doit avoir a l’abord du saut\", \"Sans ordre\", 4),\n",
    "    (9, \"Decrire l’ajustement correct d’un filet\", \"Sans ordre\", 4),\n",
    "    (10, \"Decrire le mecanisme du galop à droite\", \"Avec ordre\", 4),\n",
    "    (11, \"Citer les criteres d’appreciation d’une cession à la jambe\", \"Sans ordre\", 5),\n",
    "    (12, \"Énumérer les caracteristiques de la cession à la jambe\", \"Avec ordre\", 5),\n",
    "    (13, \"Énumérer les allures artificielles\", \"Sans ordre\", 6),\n",
    "    (14, \"Citer les differents symptomes d’une colique\", \"Sans ordre\", 6),\n",
    "    (15, \"Citer les criteres d’appreciation du reculer\", \"Sans ordre\", 6),\n",
    "    (16, \"Decrire l’emploi des aides pour le reculer\", \"Avec ordre\", 6),\n",
    "    (17, \"Enumerer les differentes allures defectueuses\", \"Sans ordre\", 7),\n",
    "    (18, \"Citer les trois façons d’attacher une longe lors du travail sur un cercle\", \"Sans ordre\", 7),\n",
    "    (19, \"Citer les effets de l’incurvation sur le cheval\", \"Sans ordre\", 7),\n",
    "    (20, \"Nommer les trois phases d’une séance à cheval\", \"Avec ordre\", 7)\n",
    "\"\"\"\n",
    "\n",
    "with connection.cursor() as cursor:\n",
    "    cursor.execute(insert_questions_query)\n",
    "    connection.commit()\n"
   ]
  },
  {
   "cell_type": "code",
   "execution_count": 7,
   "metadata": {},
   "outputs": [],
   "source": [
    "# Insertion des données dans la table des réponses :\n",
    "# (J'ai séléctionné 30 réponses de mon corpus de mémoire pour ce DM)\n",
    "# Chaque réponse est jointe à une question. Les questions peuvent avoir plusieurs réponses différentes possibles.\n",
    "\n",
    "insert_reponses_query = \"\"\"\n",
    "INSERT INTO reponses(id, reponse, type_reponse, niveau, question_id)\n",
    "VALUES\n",
    "    (1, \"Je garde mes distances, je ne double pas, je ne crie pas, je laisse la priorite a main gauche ou a l’allure la plus rapide, je monte avec une bombe, je verifie ma sangle, j’anticipe\", \"Sans ordre\", 1, 1),\n",
    "    (2, \"Maintenir une distance de sécurite, ne pas depasser les autres cavaliers, eviter de crier, ceder la priorite a main gauche ou a l'allure la plus rapide, porter une bombe, verifier la sangle, anticiper\", \"Sans ordre\", 1, 1),\n",
    "    (3, \"La voix, le poids du corps, les jambes, les mains, le regard, les epaules, l’assiette\", \"Sans ordre\", 1, 2),\n",
    "    (4, \"Passer les renes par-dessus l’encolure, deboucler la sous-gorge et la muserolle, passer la tetiere par-dessus les oreilles, enlever delicatement le mors de la bouche\", \"Avec ordre\", 1, 3),\n",
    "    (5, \"Garder ses distances, ne pas doubler, laisser la priorite a main gauche\", \"Sans ordre\", 2, 4),\n",
    "    (6, \"Il faut d’abord demonter le filet, la sangle et les etrivieres. Il faut nettoyer les cuirs avec une eponge legerement humide et du savon glycerine. On peut finir par appliquer du baume pour nourrir le cuir\", \"Avec ordre\", 2, 5),\n",
    "    (7, \"Demonter le filet, la sangle et les etrivieres. Nettoyer les cuirs avec une eponge legerement humide et du savon glycerine. Terminer en appliquant du baume pour nourrir le cuir\", \"Avec ordre\", 2, 5),\n",
    "    (8, \"Proteger la corne de l’usure, amortir les chocs, compenser les mauvais aplombs\", \"Sans ordre\", 3, 6),\n",
    "    (9, \"Preserver la corne de l'usure, attenuer les chocs, corriger les mauvais aplombs\", \"Sans ordre\", 3, 6),\n",
    "    (10, \"Limiter l’usure prematuree de la corne, eviter les chocs, compenser les mauvais aplombs\", \"Sans ordre\", 3, 6),\n",
    "    (11, \"Poser du posterieur gauche, poser de l’anterieur gauche, poser du posterieur droit, poser de l’anterieur droit\", \"Avec ordre\", 3, 7),\n",
    "    (12, \"Le cavalier doit regarder droit devant lui, diriger sa monture perpendiculairement et au milieu de l’obstacle, conserver un trace en ligne droite, controler l’allure et la vitesse, maintenir l’impulsion\", \"Sans ordre\", 4, 8),\n",
    "    (13, \"Reglage du mors avec deux plis a la commissure des levres, passer deux doigts sous la muserolle, passer un poing sous la sous-gorge\", \"Sans ordre\", 4, 9),\n",
    "    (14, \"Deux plis a la commissure des levres, deux doigts sous la muserolle, et un poing sous la sous-gorge\", \"Sans ordre\", 4, 9),\n",
    "    (15, \"Ajuster le mors avec deux plis au niveau de la commissure des levres, passer deux doigts sous la muserolle, et faire passer un poing sous la sous-gorge\", \"Sans ordre\", 4, 9),\n",
    "    (16, \"Poser du posterieur gauche, poser du bipede diagonal gauche, poser de l’anterieur droit, projection\", \"Avec ordre\", 4, 10),\n",
    "    (17, \"Le cheval est droit, le cheval est pratiquement parallele a la piste, la vitesse est reguliere, le cheval garde son activite\", \"Sans ordre\", 5, 11),\n",
    "    (18, \"Alignement du cheval, quasi-parallelisme a la piste, regularite de la vitesse, maintien de l'activite du cheval\", \"Sans ordre\", 5, 11),\n",
    "    (19, \"Un mouvement lateral sans incurvation, avec un leger pli externe, dans un mouvement avant continu\", \"Avec ordre\", 5, 12),\n",
    "    (20, \"Le cheval effectue un mouvement lateral sans incurvation, il a un leger pli externe, il reste dans un mouvement avant continu\", \"Avec ordre\", 5, 12),\n",
    "    (21, \"Le passage, le piaffer, le pas espagnol\", \"Sans ordre\", 6, 13),\n",
    "    (22, \"Le cheval se regarde les flancs, il se couche, il est agite, il gratte le sol\", \"Sans ordre\", 6, 14),\n",
    "    (23, \"Le cheval reste sur la main, il reste en ligne, il se deplace vers l’arriere calmement par diagonaux\", \"Sans ordre\", 6, 15),\n",
    "    (24, \"Le maintien sur la main, le maintien de l'alignement, et un recul effectue calmement par diagonaux\", \"Sans ordre\", 6, 15),\n",
    "    (25, \"Se grandir, glisser legerement les jambes en arriere sans les serrer, soutenir les mains, se pencher legerement en avant\", \"Avec ordre\", 6, 16),\n",
    "    (26, \"Se grandir, serrer legerement les jambes, soutenir les mains, se pencher legerement en arriere\", \"Avec ordre\", 6, 16),\n",
    "    (27, \"L’amble, le traquenard, l’aubin, le galop rompu, le galop desuni, le galop a quatre temps\", \"Sans ordre\", 7, 17),\n",
    "    (28, \"Longe fixee a l’anneau central du cavecon, longe fixee en gourmette, longe fixee en Colbert\", \"Sans ordre\", 7, 18),\n",
    "    (29, \"Assouplir le cheval, le muscler, ameliorer son equilibre, ameliorer la propulsion\", \"Sans ordre\", 7, 19),\n",
    "    (30, \"La detente, le corps de la seance, la recuperation\", \"Avec ordre\", 7, 20)\n",
    "\"\"\"\n",
    "\n",
    "with connection.cursor() as cursor:\n",
    "    cursor.execute(insert_reponses_query)\n",
    "    connection.commit()\n"
   ]
  },
  {
   "cell_type": "code",
   "execution_count": 16,
   "metadata": {},
   "outputs": [
    {
     "name": "stdout",
     "output_type": "stream",
     "text": [
      "('Citer les regles elementaires de securite a cheval', 'Je garde mes distances, je ne double pas, je ne crie pas, je laisse la priorite a main gauche ou a l’allure la plus rapide, je monte avec une bombe, je verifie ma sangle, j’anticipe')\n",
      "('Citer les regles elementaires de securite a cheval', \"Maintenir une distance de sécurite, ne pas depasser les autres cavaliers, eviter de crier, ceder la priorite a main gauche ou a l'allure la plus rapide, porter une bombe, verifier la sangle, anticiper\")\n",
      "('Nommer les différentes aides naturelles', 'La voix, le poids du corps, les jambes, les mains, le regard, les epaules, l’assiette')\n",
      "('Enumerer dans l’ordre les etapes pour enlever le filet', 'Passer les renes par-dessus l’encolure, deboucler la sous-gorge et la muserolle, passer la tetiere par-dessus les oreilles, enlever delicatement le mors de la bouche')\n",
      "('Citer les regles de circulation en pratique dans un manege ou une carriere', 'Garder ses distances, ne pas doubler, laisser la priorite a main gauche')\n",
      "('Decrire la façon d’entretenir ses cuirs', 'Il faut d’abord demonter le filet, la sangle et les etrivieres. Il faut nettoyer les cuirs avec une eponge legerement humide et du savon glycerine. On peut finir par appliquer du baume pour nourrir le cuir')\n",
      "('Decrire la façon d’entretenir ses cuirs', 'Demonter le filet, la sangle et les etrivieres. Nettoyer les cuirs avec une eponge legerement humide et du savon glycerine. Terminer en appliquant du baume pour nourrir le cuir')\n",
      "('Decrire les differents rôles de la ferrure', 'Proteger la corne de l’usure, amortir les chocs, compenser les mauvais aplombs')\n",
      "('Decrire les differents rôles de la ferrure', \"Preserver la corne de l'usure, attenuer les chocs, corriger les mauvais aplombs\")\n",
      "('Decrire les differents rôles de la ferrure', 'Limiter l’usure prematuree de la corne, eviter les chocs, compenser les mauvais aplombs')\n",
      "('Decrire le mecanisme du pas', 'Poser du posterieur gauche, poser de l’anterieur gauche, poser du posterieur droit, poser de l’anterieur droit')\n",
      "('Decrire l’attitude que le cavalier doit avoir a l’abord du saut', 'Le cavalier doit regarder droit devant lui, diriger sa monture perpendiculairement et au milieu de l’obstacle, conserver un trace en ligne droite, controler l’allure et la vitesse, maintenir l’impulsion')\n",
      "('Decrire l’ajustement correct d’un filet', 'Reglage du mors avec deux plis a la commissure des levres, passer deux doigts sous la muserolle, passer un poing sous la sous-gorge')\n",
      "('Decrire l’ajustement correct d’un filet', 'Deux plis a la commissure des levres, deux doigts sous la muserolle, et un poing sous la sous-gorge')\n",
      "('Decrire l’ajustement correct d’un filet', 'Ajuster le mors avec deux plis au niveau de la commissure des levres, passer deux doigts sous la muserolle, et faire passer un poing sous la sous-gorge')\n",
      "('Decrire le mecanisme du galop à droite', 'Poser du posterieur gauche, poser du bipede diagonal gauche, poser de l’anterieur droit, projection')\n",
      "('Citer les criteres d’appreciation d’une cession à la jambe', 'Le cheval est droit, le cheval est pratiquement parallele a la piste, la vitesse est reguliere, le cheval garde son activite')\n",
      "('Citer les criteres d’appreciation d’une cession à la jambe', \"Alignement du cheval, quasi-parallelisme a la piste, regularite de la vitesse, maintien de l'activite du cheval\")\n",
      "('Énumérer les caracteristiques de la cession à la jambe', 'Un mouvement lateral sans incurvation, avec un leger pli externe, dans un mouvement avant continu')\n",
      "('Énumérer les caracteristiques de la cession à la jambe', 'Le cheval effectue un mouvement lateral sans incurvation, il a un leger pli externe, il reste dans un mouvement avant continu')\n",
      "('Énumérer les allures artificielles', 'Le passage, le piaffer, le pas espagnol')\n",
      "('Citer les differents symptomes d’une colique', 'Le cheval se regarde les flancs, il se couche, il est agite, il gratte le sol')\n",
      "('Citer les criteres d’appreciation du reculer', 'Le cheval reste sur la main, il reste en ligne, il se deplace vers l’arriere calmement par diagonaux')\n",
      "('Citer les criteres d’appreciation du reculer', \"Le maintien sur la main, le maintien de l'alignement, et un recul effectue calmement par diagonaux\")\n",
      "('Decrire l’emploi des aides pour le reculer', 'Se grandir, glisser legerement les jambes en arriere sans les serrer, soutenir les mains, se pencher legerement en avant')\n",
      "('Decrire l’emploi des aides pour le reculer', 'Se grandir, serrer legerement les jambes, soutenir les mains, se pencher legerement en arriere')\n",
      "('Enumerer les differentes allures defectueuses', 'L’amble, le traquenard, l’aubin, le galop rompu, le galop desuni, le galop a quatre temps')\n",
      "('Citer les trois façons d’attacher une longe lors du travail sur un cercle', 'Longe fixee a l’anneau central du cavecon, longe fixee en gourmette, longe fixee en Colbert')\n",
      "('Citer les effets de l’incurvation sur le cheval', 'Assouplir le cheval, le muscler, ameliorer son equilibre, ameliorer la propulsion')\n",
      "('Nommer les trois phases d’une séance à cheval', 'La detente, le corps de la seance, la recuperation')\n"
     ]
    }
   ],
   "source": [
    "# Jointure des deux tables :\n",
    "\n",
    "select_jonction_query = \"\"\"\n",
    "SELECT\n",
    "    question,\n",
    "    reponse\n",
    "FROM questions\n",
    "JOIN reponses ON questions.id = reponses.question_id\n",
    "\"\"\"\n",
    "\n",
    "with connection.cursor() as cursor:\n",
    "    cursor.execute(select_jonction_query)\n",
    "    for reponses in cursor.fetchall():\n",
    "        print(reponses)"
   ]
  },
  {
   "cell_type": "code",
   "execution_count": null,
   "metadata": {},
   "outputs": [],
   "source": []
  }
 ],
 "metadata": {
  "kernelspec": {
   "display_name": "Python 3",
   "language": "python",
   "name": "python3"
  },
  "language_info": {
   "codemirror_mode": {
    "name": "ipython",
    "version": 3
   },
   "file_extension": ".py",
   "mimetype": "text/x-python",
   "name": "python",
   "nbconvert_exporter": "python",
   "pygments_lexer": "ipython3",
   "version": "3.9.6"
  }
 },
 "nbformat": 4,
 "nbformat_minor": 2
}
